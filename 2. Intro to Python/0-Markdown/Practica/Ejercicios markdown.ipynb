{
 "cells": [
  {
   "cell_type": "markdown",
   "metadata": {},
   "source": [
    "![imagen](./img/ejercicios.png)\n",
    "# Markdown\n",
    "\n",
    "## Ejercicio 1\n",
    "Vamos a aplicar los conocimientos adquiridos en este notebook, intentando reproducir la siguiente imagen en markdown. En el link va la página: https://www.kaggle.com/\n",
    "\n",
    "**TIP**: en [este enlace](https://www.markdownguide.org/basic-syntax/) tienes más ejemplos, por si te atascas con algo :)\n"
   ]
  },
  {
   "cell_type": "markdown",
   "metadata": {},
   "source": [
    "![imagen](./img/md_ejercicio1.png)"
   ]
  },
  {
   "cell_type": "markdown",
   "metadata": {},
   "source": []
  },
  {
   "cell_type": "markdown",
   "metadata": {},
   "source": [
    ">**Lo más importante**\n",
    ">\n",
    ">   - Matemáticas\n",
    ">   - Programación\n",
    ">   - SQL\n",
    ">   - Python\n",
    ">\n",
    ">![imagen](./img/python.png)\n",
    ">\n",
    ">Para ser programador hay que tener **iniciativa**. Si tienes dudas, consulta la documentación. Hay una cantidad inmensa de información al respecto. Keep calm and go for it!\n",
    ">\n",
    ">En esta página se aprende mucho de python: [page with python course](http://www.google.es)\n"
   ]
  },
  {
   "cell_type": "markdown",
   "metadata": {},
   "source": [
    "## Ejercicio 2\n",
    "Para este ejercicio vas a crear dos nuevos elementos que no hemos visto en la teoría: una tabla y una fórmula. Busca en la web la sintaxis y replica ambos elementos. Ojo con los espacios en blanco entre la tabla y la fórmula"
   ]
  },
  {
   "cell_type": "markdown",
   "metadata": {},
   "source": [
    "<div style=\"text-align:center\"><img src=\"./img/md_ejercicio2.png\" /></div>"
   ]
  },
  {
   "cell_type": "markdown",
   "metadata": {},
   "source": [
    " <style>\n",
    "  table {\n",
    "    border-collapse: none;\n",
    "    width: 100%;\n",
    "    background-color: white;\n",
    "  }\n",
    "  th, td {\n",
    "    border: none;\n",
    "    padding: 8px;\n",
    "    text-align: left;\n",
    "  }\n",
    "  th {\n",
    "    background-color: #f2f2f2;\n",
    "  }\n",
    "  th:nth-child(3) {\n",
    "    border-bottom: 2px solid lightblue;\n",
    "  }\n",
    "</style>\n",
    "\n",
    "| Ramp Up | Data Analysis | Machine Learning | Data & Business |\n",
    "| ------- | ------------- | ---------------- | --------------- |\n",
    "| Python  | EDA           | Supervised       | Productivización|\n",
    "| Estadística | R             | Not supervised   | Storytelling    |\n",
    "|  SQL    |  Feat. Eng.   |  Deep Learning   | API             |\n",
    "\n",
    " \n",
    "$\\sqrt{3x - 1}$ + $(1 + x)^2$         "
   ]
  }
 ],
 "metadata": {
  "kernelspec": {
   "display_name": "Python 3",
   "language": "python",
   "name": "python3"
  },
  "language_info": {
   "codemirror_mode": {
    "name": "ipython",
    "version": 3
   },
   "file_extension": ".py",
   "mimetype": "text/x-python",
   "name": "python",
   "nbconvert_exporter": "python",
   "pygments_lexer": "ipython3",
   "version": "3.8.3"
  }
 },
 "nbformat": 4,
 "nbformat_minor": 4
}
