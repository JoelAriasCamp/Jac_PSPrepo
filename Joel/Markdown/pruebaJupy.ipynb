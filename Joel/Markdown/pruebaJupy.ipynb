{
 "cells": [
  {
   "cell_type": "code",
   "execution_count": 1,
   "metadata": {},
   "outputs": [
    {
     "name": "stdout",
     "output_type": "stream",
     "text": [
      "Nombre: Joel\n"
     ]
    }
   ],
   "source": [
    "print(\"Nombre: Joel\")"
   ]
  },
  {
   "cell_type": "markdown",
   "metadata": {},
   "source": [
    "# Joel \n",
    "## Arias \n",
    "### Campo-Diaz \n",
    "Texto normal *.entre 1 asterisco* **.entre 2 asteriscos** ***.entre 3 asteriscos***\n",
    ">Cita1\n",
    "\n",
    ">>CIta2\n",
    "1. Lista ordenada\n",
    "2. Lista ordenada\n",
    "* Elemento 1\n",
    "* Elemento 2\n",
    "- Elemento 3\n",
    "+ Elemento 4\n",
    "\n",
    "Lineas de separacion\n",
    "***\n",
    "---\n",
    "\n",
    "[enlace en a google](http://www.google.es)\n",
    "A una [web][mi_web] a la que podemos referenciar mas adelante\n",
    "\n",
    "[mi_web]: http://www.google.es\n"
   ]
  }
 ],
 "metadata": {
  "kernelspec": {
   "display_name": "Python 3",
   "language": "python",
   "name": "python3"
  },
  "language_info": {
   "codemirror_mode": {
    "name": "ipython",
    "version": 3
   },
   "file_extension": ".py",
   "mimetype": "text/x-python",
   "name": "python",
   "nbconvert_exporter": "python",
   "pygments_lexer": "ipython3",
   "version": "3.7.4"
  },
  "orig_nbformat": 4
 },
 "nbformat": 4,
 "nbformat_minor": 2
}
